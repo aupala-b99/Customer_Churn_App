{
  "nbformat": 4,
  "nbformat_minor": 0,
  "metadata": {
    "colab": {
      "provenance": []
    },
    "kernelspec": {
      "name": "python3",
      "display_name": "Python 3"
    },
    "language_info": {
      "name": "python"
    }
  },
  "cells": [
    {
      "cell_type": "markdown",
      "source": [
        "# 📊 Customer Churn Analysis App (Streamlit + Snowflake)\n",
        "\n",
        "This Streamlit application is built for business managers to interactively analyze customer churn. It connects directly to Snowflake using Snowpark, allowing live filtering and visualization of customer data.\n"
      ],
      "metadata": {
        "id": "ETkasqzPSS6f"
      }
    },
    {
      "cell_type": "markdown",
      "source": [
        "## 💻 App Features\n",
        "\n",
        "- Load data directly from Snowflake's `churn` table\n",
        "- Filter data by:\n",
        "  - Contract Type\n",
        "  - Senior Citizen status\n",
        "- Visualize churn distribution using Seaborn\n",
        "- Display filtered customer-level data"
      ],
      "metadata": {
        "id": "WsrnrciYSerH"
      }
    },
    {
      "cell_type": "markdown",
      "source": [
        "## 🚀 How to Run in Snowflake (Snowsight)\n",
        "\n",
        "1. Open Snowsight in your Snowflake account\n",
        "2. Go to **Worksheets** → **+ Streamlit App**"
      ],
      "metadata": {
        "id": "91eU1D_lSnJz"
      }
    },
    {
      "cell_type": "markdown",
      "source": [
        "3. Import Required Libraries"
      ],
      "metadata": {
        "id": "jikQJaZ4S7rn"
      }
    },
    {
      "cell_type": "code",
      "source": [
        "# Load the appropriate libraries.\n",
        "import streamlit as st\n",
        "import pandas as pd\n",
        "import seaborn as sns\n",
        "sns.set(style=\"darkgrid\")\n",
        "import matplotlib.pyplot as plt\n",
        "from snowflake.snowpark.context import get_active_session"
      ],
      "metadata": {
        "id": "PevceSRbS29c"
      },
      "execution_count": null,
      "outputs": []
    },
    {
      "cell_type": "markdown",
      "source": [
        "4. Establish a Snowflake Session"
      ],
      "metadata": {
        "id": "AkOkIMB0S6n7"
      }
    },
    {
      "cell_type": "code",
      "source": [
        "session = get_active_session()"
      ],
      "metadata": {
        "id": "wFclRi4XTIMc"
      },
      "execution_count": null,
      "outputs": []
    },
    {
      "cell_type": "markdown",
      "source": [
        " 5. Load Data from Snowflake into Pandas"
      ],
      "metadata": {
        "id": "fUI1W1aITMKT"
      }
    },
    {
      "cell_type": "code",
      "source": [
        "data = session.table(\"churn\").to_pandas()"
      ],
      "metadata": {
        "id": "m6yDaL8qTRKt"
      },
      "execution_count": null,
      "outputs": []
    },
    {
      "cell_type": "markdown",
      "source": [
        "6. Set App Title and Description"
      ],
      "metadata": {
        "id": "nJjEklYJTVM9"
      }
    },
    {
      "cell_type": "code",
      "source": [
        "st.title('Customer Churn Analysis')\n",
        "st.text('This app is for managers to explore customer churn')"
      ],
      "metadata": {
        "id": "7bRPUT38TYrF"
      },
      "execution_count": null,
      "outputs": []
    },
    {
      "cell_type": "markdown",
      "source": [
        "7. Create Sidebar Filters"
      ],
      "metadata": {
        "id": "kBzoze8jTcUL"
      }
    },
    {
      "cell_type": "code",
      "source": [
        "st.sidebar.subheader('Data Filtering Options')\n",
        "contract_list = data['CONTRACT_TYPE'].unique().tolist()\n",
        "contract_selection = st.sidebar.multiselect('Contract Type', contract_list, default=contract_list)\n",
        "senior = data['SENIOR_CITIZEN'].unique().tolist()\n",
        "senior_selection = st.sidebar.multiselect('Senior Citizen', senior, default=senior)"
      ],
      "metadata": {
        "id": "9K7D0z_7ThU4"
      },
      "execution_count": null,
      "outputs": []
    },
    {
      "cell_type": "markdown",
      "source": [
        "8. Apply Filters to the Data"
      ],
      "metadata": {
        "id": "5rz8jp1DTk8x"
      }
    },
    {
      "cell_type": "code",
      "source": [
        "filtered_data = data[data['CONTRACT_TYPE'].isin(contract_selection)]\n",
        "filtered_data = data[data['SENIOR_CITIZEN'].isin(senior_selection)]"
      ],
      "metadata": {
        "id": "_nJntacrTyIh"
      },
      "execution_count": null,
      "outputs": []
    },
    {
      "cell_type": "markdown",
      "source": [
        "9. Plot Churn Distribution"
      ],
      "metadata": {
        "id": "XtrLPN2ZT211"
      }
    },
    {
      "cell_type": "code",
      "source": [
        "st.subheader('Churn Distribution')\n",
        "fig, ax = plt.subplots()\n",
        "sns.countplot(x='CHURN', data=filtered_data, palette='deep')\n",
        "st.pyplot(fig)"
      ],
      "metadata": {
        "id": "EYC13HkHUAgM"
      },
      "execution_count": null,
      "outputs": []
    },
    {
      "cell_type": "markdown",
      "source": [
        "10. Show the Filtered Table"
      ],
      "metadata": {
        "id": "AR0I9ofmUDZf"
      }
    },
    {
      "cell_type": "code",
      "source": [
        "st.subheader('Filtered Data')\n",
        "st.write(filtered_data)"
      ],
      "metadata": {
        "id": "y_pO4VHAUG9-"
      },
      "execution_count": null,
      "outputs": []
    },
    {
      "cell_type": "markdown",
      "source": [
        "📦 requirements.txt (for local testing)\n",
        "- streamlit\n",
        "- pandas\n",
        "- seaborn\n",
        "- matplotlib\n",
        "- snowflake-snowpark-python"
      ],
      "metadata": {
        "id": "cJQYgbpYUdGj"
      }
    }
  ]
}